{
 "cells": [
  {
   "cell_type": "code",
   "execution_count": 1,
   "metadata": {},
   "outputs": [],
   "source": [
    "# Step 1: Import Libraries and Load the Model\n",
    "import numpy as np\n",
    "import tensorflow as tf\n",
    "from tensorflow.keras.datasets import imdb\n",
    "from tensorflow.keras.preprocessing import sequence\n",
    "from tensorflow.keras.models import load_model"
   ]
  },
  {
   "cell_type": "code",
   "execution_count": 2,
   "metadata": {},
   "outputs": [],
   "source": [
    "\n",
    "# Load the IMDB dataset word index\n",
    "word_index = imdb.get_word_index()\n",
    "reverse_word_index = {value: key for key, value in word_index.items()}"
   ]
  },
  {
   "cell_type": "code",
   "execution_count": 4,
   "metadata": {},
   "outputs": [
    {
     "name": "stderr",
     "output_type": "stream",
     "text": [
      "WARNING:absl:Compiled the loaded model, but the compiled metrics have yet to be built. `model.compile_metrics` will be empty until you train or evaluate the model.\n"
     ]
    },
    {
     "data": {
      "text/html": [
       "<pre style=\"white-space:pre;overflow-x:auto;line-height:normal;font-family:Menlo,'DejaVu Sans Mono',consolas,'Courier New',monospace\"><span style=\"font-weight: bold\">Model: \"sequential\"</span>\n",
       "</pre>\n"
      ],
      "text/plain": [
       "\u001b[1mModel: \"sequential\"\u001b[0m\n"
      ]
     },
     "metadata": {},
     "output_type": "display_data"
    },
    {
     "data": {
      "text/html": [
       "<pre style=\"white-space:pre;overflow-x:auto;line-height:normal;font-family:Menlo,'DejaVu Sans Mono',consolas,'Courier New',monospace\">┏━━━━━━━━━━━━━━━━━━━━━━━━━━━━━━━━━┳━━━━━━━━━━━━━━━━━━━━━━━━┳━━━━━━━━━━━━━━━┓\n",
       "┃<span style=\"font-weight: bold\"> Layer (type)                    </span>┃<span style=\"font-weight: bold\"> Output Shape           </span>┃<span style=\"font-weight: bold\">       Param # </span>┃\n",
       "┡━━━━━━━━━━━━━━━━━━━━━━━━━━━━━━━━━╇━━━━━━━━━━━━━━━━━━━━━━━━╇━━━━━━━━━━━━━━━┩\n",
       "│ embedding (<span style=\"color: #0087ff; text-decoration-color: #0087ff\">Embedding</span>)           │ (<span style=\"color: #00af00; text-decoration-color: #00af00\">32</span>, <span style=\"color: #00af00; text-decoration-color: #00af00\">1000</span>, <span style=\"color: #00af00; text-decoration-color: #00af00\">128</span>)        │    <span style=\"color: #00af00; text-decoration-color: #00af00\">12,800,000</span> │\n",
       "├─────────────────────────────────┼────────────────────────┼───────────────┤\n",
       "│ simple_rnn (<span style=\"color: #0087ff; text-decoration-color: #0087ff\">SimpleRNN</span>)          │ (<span style=\"color: #00af00; text-decoration-color: #00af00\">32</span>, <span style=\"color: #00af00; text-decoration-color: #00af00\">128</span>)              │        <span style=\"color: #00af00; text-decoration-color: #00af00\">32,896</span> │\n",
       "├─────────────────────────────────┼────────────────────────┼───────────────┤\n",
       "│ dense (<span style=\"color: #0087ff; text-decoration-color: #0087ff\">Dense</span>)                   │ (<span style=\"color: #00af00; text-decoration-color: #00af00\">32</span>, <span style=\"color: #00af00; text-decoration-color: #00af00\">1</span>)                │           <span style=\"color: #00af00; text-decoration-color: #00af00\">129</span> │\n",
       "└─────────────────────────────────┴────────────────────────┴───────────────┘\n",
       "</pre>\n"
      ],
      "text/plain": [
       "┏━━━━━━━━━━━━━━━━━━━━━━━━━━━━━━━━━┳━━━━━━━━━━━━━━━━━━━━━━━━┳━━━━━━━━━━━━━━━┓\n",
       "┃\u001b[1m \u001b[0m\u001b[1mLayer (type)                   \u001b[0m\u001b[1m \u001b[0m┃\u001b[1m \u001b[0m\u001b[1mOutput Shape          \u001b[0m\u001b[1m \u001b[0m┃\u001b[1m \u001b[0m\u001b[1m      Param #\u001b[0m\u001b[1m \u001b[0m┃\n",
       "┡━━━━━━━━━━━━━━━━━━━━━━━━━━━━━━━━━╇━━━━━━━━━━━━━━━━━━━━━━━━╇━━━━━━━━━━━━━━━┩\n",
       "│ embedding (\u001b[38;5;33mEmbedding\u001b[0m)           │ (\u001b[38;5;34m32\u001b[0m, \u001b[38;5;34m1000\u001b[0m, \u001b[38;5;34m128\u001b[0m)        │    \u001b[38;5;34m12,800,000\u001b[0m │\n",
       "├─────────────────────────────────┼────────────────────────┼───────────────┤\n",
       "│ simple_rnn (\u001b[38;5;33mSimpleRNN\u001b[0m)          │ (\u001b[38;5;34m32\u001b[0m, \u001b[38;5;34m128\u001b[0m)              │        \u001b[38;5;34m32,896\u001b[0m │\n",
       "├─────────────────────────────────┼────────────────────────┼───────────────┤\n",
       "│ dense (\u001b[38;5;33mDense\u001b[0m)                   │ (\u001b[38;5;34m32\u001b[0m, \u001b[38;5;34m1\u001b[0m)                │           \u001b[38;5;34m129\u001b[0m │\n",
       "└─────────────────────────────────┴────────────────────────┴───────────────┘\n"
      ]
     },
     "metadata": {},
     "output_type": "display_data"
    },
    {
     "data": {
      "text/html": [
       "<pre style=\"white-space:pre;overflow-x:auto;line-height:normal;font-family:Menlo,'DejaVu Sans Mono',consolas,'Courier New',monospace\"><span style=\"font-weight: bold\"> Total params: </span><span style=\"color: #00af00; text-decoration-color: #00af00\">12,833,027</span> (48.95 MB)\n",
       "</pre>\n"
      ],
      "text/plain": [
       "\u001b[1m Total params: \u001b[0m\u001b[38;5;34m12,833,027\u001b[0m (48.95 MB)\n"
      ]
     },
     "metadata": {},
     "output_type": "display_data"
    },
    {
     "data": {
      "text/html": [
       "<pre style=\"white-space:pre;overflow-x:auto;line-height:normal;font-family:Menlo,'DejaVu Sans Mono',consolas,'Courier New',monospace\"><span style=\"font-weight: bold\"> Trainable params: </span><span style=\"color: #00af00; text-decoration-color: #00af00\">12,833,025</span> (48.95 MB)\n",
       "</pre>\n"
      ],
      "text/plain": [
       "\u001b[1m Trainable params: \u001b[0m\u001b[38;5;34m12,833,025\u001b[0m (48.95 MB)\n"
      ]
     },
     "metadata": {},
     "output_type": "display_data"
    },
    {
     "data": {
      "text/html": [
       "<pre style=\"white-space:pre;overflow-x:auto;line-height:normal;font-family:Menlo,'DejaVu Sans Mono',consolas,'Courier New',monospace\"><span style=\"font-weight: bold\"> Non-trainable params: </span><span style=\"color: #00af00; text-decoration-color: #00af00\">0</span> (0.00 B)\n",
       "</pre>\n"
      ],
      "text/plain": [
       "\u001b[1m Non-trainable params: \u001b[0m\u001b[38;5;34m0\u001b[0m (0.00 B)\n"
      ]
     },
     "metadata": {},
     "output_type": "display_data"
    },
    {
     "data": {
      "text/html": [
       "<pre style=\"white-space:pre;overflow-x:auto;line-height:normal;font-family:Menlo,'DejaVu Sans Mono',consolas,'Courier New',monospace\"><span style=\"font-weight: bold\"> Optimizer params: </span><span style=\"color: #00af00; text-decoration-color: #00af00\">2</span> (12.00 B)\n",
       "</pre>\n"
      ],
      "text/plain": [
       "\u001b[1m Optimizer params: \u001b[0m\u001b[38;5;34m2\u001b[0m (12.00 B)\n"
      ]
     },
     "metadata": {},
     "output_type": "display_data"
    }
   ],
   "source": [
    "# Load the pre-trained model with ReLU activation\n",
    "model = load_model('simple_rnn_imd.h5')\n",
    "model.summary()"
   ]
  },
  {
   "cell_type": "code",
   "execution_count": 6,
   "metadata": {},
   "outputs": [
    {
     "name": "stdout",
     "output_type": "stream",
     "text": [
      "Keys: ['model_weights', 'optimizer_weights']\n"
     ]
    }
   ],
   "source": [
    "import h5py\n",
    "\n",
    "# Open the .h5 file\n",
    "with h5py.File('simple_rnn_imd.h5', 'r') as file:\n",
    "    # List all groups, datasets, and attributes\n",
    "    print(\"Keys:\", list(file.keys()))"
   ]
  },
  {
   "cell_type": "code",
   "execution_count": 7,
   "metadata": {},
   "outputs": [
    {
     "data": {
      "text/plain": [
       "[array([[ 4.6900328e-04,  8.6803615e-02, -7.4378751e-02, ...,\n",
       "          7.7043116e-02,  8.1420146e-02,  6.1562431e-01],\n",
       "        [-1.1032442e-02,  5.5314932e-02, -4.3601148e-02, ...,\n",
       "          2.9612523e-02,  5.7231970e-02, -2.8239416e-02],\n",
       "        [ 3.4457874e-02,  4.5976367e-02, -2.9608786e-02, ...,\n",
       "          3.8706247e-02, -2.0164108e-02, -1.6193412e-02],\n",
       "        ...,\n",
       "        [ 4.7239009e-02,  1.3773862e-02,  2.0377088e-02, ...,\n",
       "         -4.2631477e-04,  1.6737964e-02, -3.6456585e-03],\n",
       "        [-3.7156332e-02, -5.5341944e-03, -3.6114655e-02, ...,\n",
       "         -2.6559962e-02, -2.2689236e-02, -1.4612962e-02],\n",
       "        [ 7.3537715e-03,  1.3671819e-02, -3.3050798e-02, ...,\n",
       "         -1.8096507e-02, -4.1830517e-02, -4.2813875e-02]], dtype=float32),\n",
       " array([[ 0.07517301,  0.10361935,  0.0196055 , ..., -0.07129504,\n",
       "         -0.08972399, -0.06699177],\n",
       "        [-0.08059046,  0.1638016 ,  0.07014082, ..., -0.01681124,\n",
       "         -0.06547394, -0.01158356],\n",
       "        [ 0.12001293,  0.0993551 ,  0.00147364, ..., -0.10469052,\n",
       "          0.13736376, -0.01427345],\n",
       "        ...,\n",
       "        [-0.00169753, -0.07767378,  0.03013466, ...,  0.15626891,\n",
       "         -0.0914603 ,  0.02713442],\n",
       "        [-0.11251041, -0.05266916, -0.12906685, ..., -0.06218193,\n",
       "         -0.13365433, -0.07426315],\n",
       "        [-0.05095548, -0.02166405, -0.10912745, ...,  0.08293538,\n",
       "         -0.02363273,  0.06166253]], dtype=float32),\n",
       " array([[-0.05946546, -0.12648934, -0.02396482, ...,  0.05046517,\n",
       "         -0.08881824,  0.02328123],\n",
       "        [-0.0133926 , -0.02278115,  0.04925023, ...,  0.16881105,\n",
       "         -0.00753893,  0.0330465 ],\n",
       "        [ 0.13973878, -0.03447348, -0.1713832 , ..., -0.09430384,\n",
       "         -0.10953695,  0.11087227],\n",
       "        ...,\n",
       "        [-0.04183587,  0.01326645, -0.10458031, ..., -0.04284561,\n",
       "         -0.03502815, -0.10595306],\n",
       "        [ 0.03259836,  0.0967239 , -0.08681043, ..., -0.14351562,\n",
       "         -0.12991798,  0.02542768],\n",
       "        [-0.13106152, -0.05584912,  0.04536952, ...,  0.16634198,\n",
       "         -0.01970439, -0.11438401]], dtype=float32),\n",
       " array([-1.2104858e-03, -2.1763813e-02, -2.7474716e-02,  8.5383635e-03,\n",
       "         7.5268443e-03, -2.7832437e-02,  8.4754042e-03, -3.3059452e-02,\n",
       "        -4.6926640e-02, -4.9593775e-03, -3.1617161e-02, -8.5854717e-03,\n",
       "        -4.1657854e-02, -3.9657030e-02, -1.4550799e-02, -3.5662334e-02,\n",
       "        -1.7021468e-02,  4.0117521e-02, -2.9584041e-02, -9.4962399e-03,\n",
       "        -2.7378930e-02, -2.4028016e-02, -2.3551865e-02, -2.3262484e-02,\n",
       "        -1.7128574e-02, -1.2037789e-02,  1.4457277e-02, -1.8042903e-02,\n",
       "         1.7745875e-02,  5.7557314e-03,  1.1785369e-02, -2.3278808e-02,\n",
       "        -4.7381617e-02, -1.7717037e-02, -9.3311891e-03, -3.2025345e-02,\n",
       "         4.1812109e-03, -2.3572316e-02, -3.6156554e-02, -3.5948320e-05,\n",
       "         1.0829948e-02, -9.8751076e-03,  3.0120586e-03, -2.9994287e-02,\n",
       "        -3.4300929e-03, -2.1323325e-02, -2.1783749e-02,  3.4126356e-02,\n",
       "        -2.0970641e-02,  2.9667262e-02, -3.4574032e-02, -1.6112924e-02,\n",
       "        -3.5804763e-02, -2.6767056e-02, -4.4485502e-02, -2.3369664e-02,\n",
       "         2.3614876e-02, -1.2344589e-02, -2.7671109e-03, -5.4670826e-02,\n",
       "        -1.7509351e-02,  6.5631340e-03, -4.1322879e-02, -2.1145485e-02,\n",
       "         2.0157846e-02, -1.8912904e-02, -2.2685271e-02, -5.4041572e-02,\n",
       "        -2.1340314e-02, -2.3654213e-02, -2.1713933e-02, -3.0495727e-02,\n",
       "        -1.1938637e-02,  1.5079173e-02, -1.0171085e-02,  2.6049961e-03,\n",
       "         2.2985343e-02,  8.6799487e-03, -1.3049344e-02, -4.0766608e-02,\n",
       "        -4.7490527e-03, -2.3121325e-02, -3.2620825e-02, -4.0277545e-03,\n",
       "        -2.5562099e-03, -2.6885066e-02, -1.7745370e-02, -2.6348241e-02,\n",
       "        -5.3901274e-02, -1.3973611e-02,  6.6666431e-03, -4.3454757e-03,\n",
       "        -1.6274191e-02,  2.0309562e-02,  4.3244716e-02, -8.5402336e-03,\n",
       "        -2.5052868e-02,  1.4721412e-02,  4.8850339e-02,  3.4139235e-02,\n",
       "        -5.9838598e-03, -1.2914363e-02, -5.6281686e-03, -3.8948309e-02,\n",
       "        -2.4079379e-02, -1.4648970e-02, -1.4936165e-02, -6.5450803e-03,\n",
       "         1.1034984e-03, -1.1339478e-02, -1.9930214e-02,  6.0080444e-03,\n",
       "        -3.6302157e-02, -1.8647389e-02, -4.4031654e-02, -8.7518798e-04,\n",
       "        -8.9809615e-03, -1.8075028e-02, -5.1047984e-03, -2.1343338e-03,\n",
       "         2.1431106e-03, -9.6945744e-03, -3.8796656e-02, -3.7247133e-02,\n",
       "        -3.1479642e-02, -1.6566947e-02, -2.2445923e-02, -1.6972981e-02],\n",
       "       dtype=float32),\n",
       " array([[ 0.06515144],\n",
       "        [-0.08536748],\n",
       "        [ 0.35759297],\n",
       "        [ 0.37866956],\n",
       "        [-0.2270788 ],\n",
       "        [ 0.16376399],\n",
       "        [-0.23752333],\n",
       "        [-0.00264628],\n",
       "        [ 0.15078157],\n",
       "        [-0.00974815],\n",
       "        [-0.23185495],\n",
       "        [-0.25767162],\n",
       "        [ 0.17788729],\n",
       "        [ 0.21906061],\n",
       "        [-0.01865082],\n",
       "        [-0.06778727],\n",
       "        [-0.11334234],\n",
       "        [ 0.17486736],\n",
       "        [ 0.09100241],\n",
       "        [-0.12809822],\n",
       "        [ 0.05328953],\n",
       "        [-0.1437902 ],\n",
       "        [ 0.08515598],\n",
       "        [ 0.2086956 ],\n",
       "        [-0.13682005],\n",
       "        [-0.12721886],\n",
       "        [-0.06869447],\n",
       "        [ 0.01603797],\n",
       "        [-0.10397768],\n",
       "        [-0.11793713],\n",
       "        [-0.6649282 ],\n",
       "        [-0.01058263],\n",
       "        [ 0.04056656],\n",
       "        [ 0.00907882],\n",
       "        [ 0.1629825 ],\n",
       "        [ 0.2507179 ],\n",
       "        [ 0.2858839 ],\n",
       "        [ 0.16647564],\n",
       "        [-0.04463168],\n",
       "        [-0.23637868],\n",
       "        [ 0.1372998 ],\n",
       "        [ 0.18251853],\n",
       "        [ 0.00825458],\n",
       "        [ 0.19459195],\n",
       "        [-0.13668783],\n",
       "        [ 0.18971759],\n",
       "        [ 0.15007396],\n",
       "        [ 0.26935363],\n",
       "        [-0.03976007],\n",
       "        [-0.14507437],\n",
       "        [-0.1257019 ],\n",
       "        [ 0.06206664],\n",
       "        [ 0.01397538],\n",
       "        [-0.15773469],\n",
       "        [ 0.16624664],\n",
       "        [-0.05732213],\n",
       "        [ 0.08599515],\n",
       "        [-0.11409479],\n",
       "        [ 0.33525106],\n",
       "        [ 0.13137437],\n",
       "        [ 0.10927354],\n",
       "        [-0.1415427 ],\n",
       "        [ 0.11740696],\n",
       "        [ 0.09198613],\n",
       "        [-0.23128997],\n",
       "        [-0.00107353],\n",
       "        [ 0.21284586],\n",
       "        [ 0.12855195],\n",
       "        [ 0.01203693],\n",
       "        [ 0.12694521],\n",
       "        [-0.18145892],\n",
       "        [ 0.40795305],\n",
       "        [-0.08719854],\n",
       "        [-0.24655393],\n",
       "        [-0.16626053],\n",
       "        [-0.00403133],\n",
       "        [-0.19593307],\n",
       "        [ 0.15779862],\n",
       "        [ 0.22051762],\n",
       "        [ 0.05792229],\n",
       "        [ 0.15242453],\n",
       "        [-0.14719056],\n",
       "        [-0.11533433],\n",
       "        [-0.26568928],\n",
       "        [ 0.23503247],\n",
       "        [ 0.5138623 ],\n",
       "        [-0.00370749],\n",
       "        [-0.00732064],\n",
       "        [ 0.15992533],\n",
       "        [-0.2018439 ],\n",
       "        [ 0.23158658],\n",
       "        [ 0.11603381],\n",
       "        [-0.11013019],\n",
       "        [ 0.627637  ],\n",
       "        [ 0.1016571 ],\n",
       "        [ 0.17105165],\n",
       "        [ 0.5265941 ],\n",
       "        [-0.04273462],\n",
       "        [-0.04482315],\n",
       "        [ 0.21370555],\n",
       "        [ 0.01485042],\n",
       "        [ 0.23188858],\n",
       "        [-0.09936551],\n",
       "        [ 0.28141987],\n",
       "        [-0.17932564],\n",
       "        [ 0.05736603],\n",
       "        [ 0.21306007],\n",
       "        [-0.26109192],\n",
       "        [ 0.4678919 ],\n",
       "        [ 0.20134535],\n",
       "        [ 0.00529506],\n",
       "        [ 0.20240377],\n",
       "        [-0.01307251],\n",
       "        [-0.3008894 ],\n",
       "        [ 0.16583562],\n",
       "        [ 0.25356472],\n",
       "        [ 0.11663643],\n",
       "        [ 0.2616003 ],\n",
       "        [ 0.02000723],\n",
       "        [-0.16741875],\n",
       "        [ 0.15206204],\n",
       "        [-0.1770781 ],\n",
       "        [-0.05929508],\n",
       "        [-0.16995323],\n",
       "        [ 0.03892378],\n",
       "        [ 0.16902325],\n",
       "        [ 0.3617217 ],\n",
       "        [-0.16267622]], dtype=float32),\n",
       " array([0.74638134], dtype=float32)]"
      ]
     },
     "execution_count": 7,
     "metadata": {},
     "output_type": "execute_result"
    }
   ],
   "source": [
    "model.get_weights()"
   ]
  },
  {
   "cell_type": "code",
   "execution_count": 9,
   "metadata": {},
   "outputs": [],
   "source": [
    "# Step 2: Helper Functions\n",
    "# Function to decode reviews\n",
    "def decode_review(encoded_review):\n",
    "    return ' '.join([reverse_word_index.get(i - 3, '?') for i in encoded_review])\n",
    "\n",
    "# Function to preprocess user input\n",
    "def preprocess_text(text):\n",
    "    words = text.lower().split()\n",
    "    encoded_review = [word_index.get(word, 2) + 3 for word in words]\n",
    "    padded_review = sequence.pad_sequences([encoded_review], maxlen=500)\n",
    "    return padded_review"
   ]
  },
  {
   "cell_type": "code",
   "execution_count": 12,
   "metadata": {},
   "outputs": [],
   "source": [
    "### Prediction  function\n",
    "\n",
    "def predict_sentiment(review):\n",
    "    preprocessed_input=preprocess_text(review)\n",
    "\n",
    "    prediction=model.predict(preprocessed_input)\n",
    "\n",
    "    sentiment = 'Positive' if prediction[0][0] > 0.5 else 'Negative'\n",
    "    \n",
    "    return sentiment, prediction[0][0]\n",
    "\n"
   ]
  },
  {
   "cell_type": "code",
   "execution_count": 15,
   "metadata": {},
   "outputs": [
    {
     "name": "stdout",
     "output_type": "stream",
     "text": [
      "\u001b[1m1/1\u001b[0m \u001b[32m━━━━━━━━━━━━━━━━━━━━\u001b[0m\u001b[37m\u001b[0m \u001b[1m0s\u001b[0m 79ms/step\n",
      "Review: I did like the movie\n",
      "Sentiment: Positive\n",
      "Prediction Score: 0.5627530813217163\n"
     ]
    }
   ],
   "source": [
    "# Step 4: User Input and Prediction\n",
    "# Example review for prediction\n",
    "example_review = \"I did like the movie\"\n",
    "\n",
    "sentiment,score=predict_sentiment(example_review)\n",
    "\n",
    "print(f'Review: {example_review}')\n",
    "print(f'Sentiment: {sentiment}')\n",
    "print(f'Prediction Score: {score}')  "
   ]
  },
  {
   "cell_type": "code",
   "execution_count": null,
   "metadata": {},
   "outputs": [],
   "source": []
  },
  {
   "cell_type": "code",
   "execution_count": null,
   "metadata": {},
   "outputs": [],
   "source": []
  },
  {
   "cell_type": "code",
   "execution_count": null,
   "metadata": {},
   "outputs": [],
   "source": []
  },
  {
   "cell_type": "code",
   "execution_count": null,
   "metadata": {},
   "outputs": [],
   "source": []
  }
 ],
 "metadata": {
  "kernelspec": {
   "display_name": "Python 3",
   "language": "python",
   "name": "python3"
  },
  "language_info": {
   "codemirror_mode": {
    "name": "ipython",
    "version": 3
   },
   "file_extension": ".py",
   "mimetype": "text/x-python",
   "name": "python",
   "nbconvert_exporter": "python",
   "pygments_lexer": "ipython3",
   "version": "3.12.10"
  }
 },
 "nbformat": 4,
 "nbformat_minor": 2
}
